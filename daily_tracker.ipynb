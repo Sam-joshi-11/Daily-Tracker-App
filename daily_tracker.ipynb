{
 "cells": [
  {
   "cell_type": "code",
   "execution_count": null,
   "id": "54373426",
   "metadata": {},
   "outputs": [
    {
     "name": "stdout",
     "output_type": "stream",
     "text": [
      "Great to hear that, sam!\n",
      "\n",
      "📋 Here's your Daily Summary:\n",
      "Name: sam\n",
      "Mood: happy\n",
      "goal: learning python just focus onn your goal\n",
      "Tasks Completed:\n",
      "✔️ basics of python\n",
      "Total tasks completed: 1\n",
      "\n",
      "📋 Here's your Daily Summary:\n",
      "Name: sam\n",
      "Mood: happy\n",
      "goal: learning python just focus onn your goal\n",
      "Tasks Completed:\n",
      "✔️ basics of python\n",
      "✔️ taken test for chatgpt\n",
      "Total tasks completed: 2\n",
      "\n",
      "📋 Here's your Daily Summary:\n",
      "Name: sam\n",
      "Mood: happy\n",
      "goal: learning python just focus onn your goal\n",
      "Tasks Completed:\n",
      "✔️ basics of python\n",
      "✔️ taken test for chatgpt\n",
      "✔️ and i hv compeleted eith codes\n",
      "Total tasks completed: 3\n"
     ]
    }
   ],
   "source": [
    "# 1. Greet user and get mood + goal\n",
    "name = input(\"What's your name? \")\n",
    "mood = input(\"How are you feeling today (happy/sad/tired)? \")\n",
    "goal = input(\"What's your goal for tomorrow, \" + name + \"? \")\n",
    "\n",
    "# 2. Mood-based response\n",
    "if mood == \"happy\":\n",
    "    print(\"Great to hear that, \" + name + \"! 😊\")\n",
    "elif mood == \"tired\":\n",
    "    print(\"Take some rest and stay hydrated, \" + name + \". 😴\")\n",
    "else:\n",
    "    print(\"Sending positive vibes your way, \" + name + \" 💖\")\n",
    "    print(\"Everything happens for a reason, don't worry \" + name + \".\")\n",
    "\n",
    "# 3. Track tasks\n",
    "tasks = []\n",
    "for i in range(3):\n",
    "    task = input(f\"Enter task #{i+1} you completed today: \")\n",
    "    tasks.append(task)\n",
    "\n",
    "# 4. Daily summary\n",
    "print(\"\\n📋 Here's your Daily Summary:\")\n",
    "print(\"👤 Name:\", name)\n",
    "print(\"🧠 Mood:\", mood)\n",
    "print(\"🎯 Tomorrow's Goal:\", goal)\n",
    "print(\"📝 Tasks Completed:\")\n",
    "\n",
    "for t in tasks:\n",
    "    print(\"✔️\", t)\n",
    "\n",
    "print(f\"✅ Total tasks completed: {len(tasks)}\")\n",
    "print(\"\\n🚀 Keep pushing forward, \" + name + \"! You're doing great.\")\n"
   ]
  },
  {
   "cell_type": "code",
   "execution_count": null,
   "id": "edc4a340",
   "metadata": {},
   "outputs": [],
   "source": []
  }
 ],
 "metadata": {
  "kernelspec": {
   "display_name": "Python 3",
   "language": "python",
   "name": "python3"
  },
  "language_info": {
   "codemirror_mode": {
    "name": "ipython",
    "version": 3
   },
   "file_extension": ".py",
   "mimetype": "text/x-python",
   "name": "python",
   "nbconvert_exporter": "python",
   "pygments_lexer": "ipython3",
   "version": "3.13.2"
  }
 },
 "nbformat": 4,
 "nbformat_minor": 5
}
