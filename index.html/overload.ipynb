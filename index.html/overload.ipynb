{
 "cells": [
  {
   "cell_type": "code",
   "execution_count": 3,
   "metadata": {},
   "outputs": [
    {
     "name": "stdout",
     "output_type": "stream",
     "text": [
      "15\n",
      "18\n",
      "20\n"
     ]
    }
   ],
   "source": [
    "## implementing simple method overloading\n",
    "\n",
    "class Arithmetic:\n",
    "    def add(self, a, b, c=0, d=0): \n",
    "        return a + b + c + d\n",
    "\n",
    "ari = Arithmetic()\n",
    "print(ari.add(10, 5))        \n",
    "print(ari.add(10, 5, 3))     \n",
    "print(ari.add(10, 5, 3, 2))  \n"
   ]
  },
  {
   "cell_type": "code",
   "execution_count": null,
   "metadata": {},
   "outputs": [],
   "source": []
  }
 ],
 "metadata": {
  "kernelspec": {
   "display_name": "Python 3",
   "language": "python",
   "name": "python3"
  },
  "language_info": {
   "codemirror_mode": {
    "name": "ipython",
    "version": 3
   },
   "file_extension": ".py",
   "mimetype": "text/x-python",
   "name": "python",
   "nbconvert_exporter": "python",
   "pygments_lexer": "ipython3",
   "version": "3.13.2"
  }
 },
 "nbformat": 4,
 "nbformat_minor": 2
}
