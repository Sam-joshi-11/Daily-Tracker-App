{
 "cells": [
  {
   "cell_type": "code",
   "execution_count": 6,
   "metadata": {},
   "outputs": [
    {
     "name": "stdout",
     "output_type": "stream",
     "text": [
      "puppy say woof\n"
     ]
    }
   ],
   "source": [
    "##multiple inheritance\n",
    "\n",
    "## when a child class inherites more than one class\n",
    "\n",
    "class animal:\n",
    "    def __init__(self,name):\n",
    "        self.name=name\n",
    "\n",
    "    def speak(self):\n",
    "        print(\"subclads must implement this method\")\n",
    "\n",
    "## parent class 2\n",
    "\n",
    "class pet:\n",
    "    def __init__(self,owner):\n",
    "        self.owner=owner\n",
    "\n",
    "## child class\n",
    "\n",
    "class dog(animal,pet):\n",
    "    def __init__(self, name,owner):\n",
    "        animal.__init__(self,name)\n",
    "        pet. __init__(self,owner)\n",
    "        \n",
    "\n",
    "\n",
    "    def speak(self):\n",
    "        return f\"{self.name} say woof\"\n",
    "    \n",
    "## create objects\n",
    "dog1=dog(\"puppy\",\"surya\")\n",
    "print(dog1.speak())\n",
    "\n",
    "            \n"
   ]
  },
  {
   "cell_type": "code",
   "execution_count": 7,
   "metadata": {},
   "outputs": [
    {
     "name": "stdout",
     "output_type": "stream",
     "text": [
      "woooooo\n",
      "meow\n"
     ]
    }
   ],
   "source": [
    "## polymorphism\n",
    "## it means many forms example in an class we can create n number of methods\n",
    "\n",
    "## single method can perform many different actions\n",
    "## method overriding\n",
    "\n",
    "## base class\n",
    "\n",
    "class animal:\n",
    "    def speak(self):\n",
    "        return \"sound off the animal\"\n",
    "    \n",
    "## child class\n",
    "class dog(animal):\n",
    "    def speak(self):\n",
    "        return \"woooooo\"\n",
    "    \n",
    "## child class 2\n",
    "class cat(animal):\n",
    "    def speak(self):\n",
    "        return \"meow\"\n",
    "    \n",
    "\n",
    "\n",
    "dog1=dog()\n",
    "cat1=cat()\n",
    "\n",
    "print(dog1.speak())\n",
    "print(cat1.speak())"
   ]
  },
  {
   "cell_type": "code",
   "execution_count": 1,
   "metadata": {},
   "outputs": [
    {
     "name": "stdout",
     "output_type": "stream",
     "text": [
      "ramson speakes wooooo\n",
      "meow\n"
     ]
    }
   ],
   "source": [
    "## same method name but different in parameters this is called method overloading\n",
    "## same method and same parameters this is called method overriding\n",
    "class animal:\n",
    "    def speak(self):\n",
    "        return \"sound off the animal\"\n",
    "    \n",
    "## child class\n",
    "class dog(animal):\n",
    "    def speak(self,name):\n",
    "        self.name=name\n",
    "        return f\"{self.name} speakes wooooo\"\n",
    "    \n",
    "## child class 2\n",
    "class cat(animal):\n",
    "    def speak(self):\n",
    "        return \"meow\"\n",
    "    \n",
    "\n",
    "\n",
    "dog1=dog()\n",
    "cat1=cat()\n",
    "\n",
    "print(dog1.speak(\"ramson\"))\n",
    "print(cat1.speak())"
   ]
  },
  {
   "cell_type": "code",
   "execution_count": 12,
   "metadata": {},
   "outputs": [
    {
     "data": {
      "text/plain": [
       "'surya'"
      ]
     },
     "execution_count": 12,
     "metadata": {},
     "output_type": "execute_result"
    }
   ],
   "source": [
    "class person:\n",
    "\n",
    "    def __init__(self,name,age,gender):\n",
    "        self.name=name\n",
    "        self.age=age\n",
    "        self.gender=gender\n",
    "\n",
    "\n",
    "def get_name(person):\n",
    "        return person.name\n",
    "    \n",
    "person1=person(\"surya\",45,\"male\")\n",
    "get_name(person1)\n",
    "        "
   ]
  },
  {
   "cell_type": "code",
   "execution_count": 14,
   "metadata": {},
   "outputs": [
    {
     "name": "stdout",
     "output_type": "stream",
     "text": [
      "car engine started\n",
      "None\n"
     ]
    }
   ],
   "source": [
    "## ABSTRACTION\n",
    "## in abstract class u can have non abstract method and abstract method\n",
    "\n",
    "from abc import ABC,abstractmethod\n",
    "\n",
    "## abstract child class\n",
    "\n",
    "class vehicle(ABC):\n",
    "\n",
    "    def drive(self):\n",
    "        print(\"The vehicle iss used for driving\")\n",
    "\n",
    "        @abstractmethod\n",
    "        def start_engine(self):\n",
    "            pass\n",
    "    ## when u inherit the abstrract class in any other child u should implement\n",
    "    # the abstarct method which are there in abstract class \n",
    "class car(vehicle):\n",
    "\n",
    "    def start_engine(self):\n",
    "        print(\"car engine started\")\n",
    "\n",
    "car1=car()\n",
    "print(car1.start_engine())\n"
   ]
  },
  {
   "cell_type": "code",
   "execution_count": null,
   "metadata": {},
   "outputs": [],
   "source": []
  }
 ],
 "metadata": {
  "kernelspec": {
   "display_name": "Python 3",
   "language": "python",
   "name": "python3"
  },
  "language_info": {
   "codemirror_mode": {
    "name": "ipython",
    "version": 3
   },
   "file_extension": ".py",
   "mimetype": "text/x-python",
   "name": "python",
   "nbconvert_exporter": "python",
   "pygments_lexer": "ipython3",
   "version": "3.13.2"
  }
 },
 "nbformat": 4,
 "nbformat_minor": 2
}
